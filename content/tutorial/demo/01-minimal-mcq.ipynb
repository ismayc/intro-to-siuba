{
 "cells": [
  {
   "cell_type": "raw",
   "metadata": {},
   "source": [
    "---\n",
    "description: ''\n",
    "sidebar: 'docs'\n",
    "prev: '/tutorial/demo/01-minimal-code'\n",
    "next: '/tutorial/demo/02-code-input'\n",
    "---\n"
   ]
  },
  {
   "cell_type": "code",
   "execution_count": 16,
   "metadata": {
    "jupyter": {
     "source_hidden": true
    }
   },
   "outputs": [
    {
     "data": {
      "text/html": [
       "\n",
       "<p>What is the capital of Idaho?</p>\n",
       "\n",
       "<q-multiple-choice>\n",
       "  <q-opt text=\"Salt Lake City\"><span>No, that's not right</span></q-opt>\n",
       "  <q-opt text=\"Boise\"><span>Nailed it!</span></q-opt>  \n",
       "</q-multiple-choice>\n"
      ],
      "text/plain": [
       "<IPython.core.display.HTML object>"
      ]
     },
     "metadata": {},
     "output_type": "display_data"
    }
   ],
   "source": [
    "%%html\n",
    "\n",
    "<p>What is the capital of Idaho?</p>\n",
    "\n",
    "<q-multiple-choice>\n",
    "  <q-opt text=\"Salt Lake City\"><span>No, that's not right</span></q-opt>\n",
    "  <q-opt text=\"Boise\"><span>Nailed it!</span></q-opt>  \n",
    "</q-multiple-choice>\n"
   ]
  }
 ],
 "metadata": {
  "kernelspec": {
   "display_name": "Python 3",
   "language": "python",
   "name": "python3"
  },
  "language_info": {
   "codemirror_mode": {
    "name": "ipython",
    "version": 3
   },
   "file_extension": ".py",
   "mimetype": "text/x-python",
   "name": "python",
   "nbconvert_exporter": "python",
   "pygments_lexer": "ipython3",
   "version": "3.6.8"
  }
 },
 "nbformat": 4,
 "nbformat_minor": 4
}
