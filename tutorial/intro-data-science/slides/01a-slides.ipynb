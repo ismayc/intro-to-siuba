{
 "cells": [
  {
   "cell_type": "code",
   "execution_count": null,
   "metadata": {
    "slideshow": {
     "slide_type": "skip"
    },
    "tags": [
     "hide-cell"
    ]
   },
   "outputs": [],
   "source": [
    "import pandas as pd\n",
    "from siuba import arrange, select, mutate, filter, _\n",
    "from plotnine import ggplot, geom_point, coord_flip, aes, labs\n",
    "\n",
    "\n",
    "# temporary until I figure out where to put data\n",
    "fname = \"https://siublocks.s3.us-east-2.amazonaws.com/course-data/music200.csv\"\n",
    "music_top200 = pd.read_csv(fname)\n",
    "\n",
    "# tracks\n",
    "fname = \"https://siublocks.s3.us-east-2.amazonaws.com/course-data/track_features.csv\"\n",
    "track_features = pd.read_csv(fname)\n",
    "\n",
    "pd.set_option(\"display.max_rows\", 6)\n"
   ]
  },
  {
   "cell_type": "markdown",
   "metadata": {
    "slideshow": {
     "slide_type": "slide"
    }
   },
   "source": [
    "# Introduction to siuba"
   ]
  },
  {
   "cell_type": "markdown",
   "metadata": {
    "slideshow": {
     "slide_type": "notes"
    }
   },
   "source": [
    "In this chapter, you'll start writing data analysis code.\n",
    "\n",
    "We'll focus on basic actions--called verbs--that you can perform on a DataFrame."
   ]
  },
  {
   "cell_type": "markdown",
   "metadata": {
    "slideshow": {
     "slide_type": "slide"
    }
   },
   "source": [
    "# Data Analysis\n",
    "\n",
    "![](model-workflow.png)"
   ]
  },
  {
   "cell_type": "markdown",
   "metadata": {
    "slideshow": {
     "slide_type": "notes"
    }
   },
   "source": [
    "Data analysis is the act of using data to produce effective communication.\n",
    "Communication that leads to meaningful action.\n",
    "\n",
    "In this course, we'll focus on one area of data analysis where siuba shines: transforming data.\n",
    "\n",
    "We'll also combine siuba with a library called plotnine to visualize data."
   ]
  },
  {
   "cell_type": "markdown",
   "metadata": {
    "slideshow": {
     "slide_type": "slide"
    }
   },
   "source": [
    "# Meet the data: Spotify top 200\n",
    "\n",
    "![](spotify_site.png)"
   ]
  },
  {
   "cell_type": "markdown",
   "metadata": {
    "slideshow": {
     "slide_type": "notes"
    }
   },
   "source": [
    "We'll use data that Spotify publishes every week on the top 200 songs in 62 different countries.\n",
    "\n",
    "You can check it out on <a href=\"https://spotifycharts.com/regional/global/weekly/latest\" target =\"_blank\">spotifycharts.com</a>"
   ]
  },
  {
   "cell_type": "markdown",
   "metadata": {
    "slideshow": {
     "slide_type": "slide"
    }
   },
   "source": [
    "# Meet the data: Spotify top 200\n",
    "\n",
    "<div style=\"width: 70%\">\n",
    "    \n",
    "<img src=\"plot-line.png\">\n",
    "\n",
    "</div>\n"
   ]
  },
  {
   "cell_type": "markdown",
   "metadata": {
    "slideshow": {
     "slide_type": "notes"
    }
   },
   "source": [
    "For example, this line plot shows the top 200 hits in the United States."
   ]
  },
  {
   "cell_type": "markdown",
   "metadata": {
    "slideshow": {
     "slide_type": "slide"
    }
   },
   "source": [
    "# Meet the data: Spotify song features\n",
    "\n",
    "<div style=\"width: 70%\">\n",
    "    \n",
    "![](plot-weeknd-features.png)\n",
    "\n",
    "</div>"
   ]
  },
  {
   "cell_type": "markdown",
   "metadata": {
    "slideshow": {
     "slide_type": "notes"
    }
   },
   "source": [
    "Later in the course, we'll look at measures Spotify calculates for each song.\n",
    "\n",
    "Their measures for a song include:\n",
    "\n",
    "* energy\n",
    "* valence (how happy or positive)\n",
    "* danceability\n",
    "* speechiness\n",
    "* acousticness"
   ]
  },
  {
   "cell_type": "markdown",
   "metadata": {
    "raw_mimetype": "text/html",
    "slideshow": {
     "slide_type": "slide"
    }
   },
   "source": [
    "# Data Analysis\n",
    "\n",
    "<div>\n",
    "<style scoped>\n",
    ".container{\n",
    "    display: flex;\n",
    "}\n",
    ".col{\n",
    "    flex: 1;\n",
    "    height: 450px;\n",
    "}\n",
    "img {\n",
    "    max-height: 50%;\n",
    "}\n",
    "</style>\n",
    "\n",
    "<div class=\"container\" height=\"450px\">\n",
    "\n",
    "<div class=\"col\" width=\"50%\">\n",
    "<img src=\"plot-line.png\">\n",
    "<img src=\"plot-hist.png\">\n",
    "\n",
    "</div>\n",
    "\n",
    "<div class=\"col\" width=\"50%\">\n",
    "<img src=\"plot-point.png\">\n",
    "<img src=\"plot-box.png\">\n",
    "\n",
    "</div>\n",
    "\n",
    "</div>\n",
    "</div>\n",
    "    \n"
   ]
  },
  {
   "cell_type": "markdown",
   "metadata": {
    "slideshow": {
     "slide_type": "slide"
    }
   },
   "source": [
    "# Music data"
   ]
  },
  {
   "cell_type": "code",
   "execution_count": null,
   "metadata": {},
   "outputs": [],
   "source": [
    "music_top200"
   ]
  },
  {
   "cell_type": "markdown",
   "metadata": {
    "slideshow": {
     "slide_type": "notes"
    }
   },
   "source": [
    "The data we'll use is held in a **DataFrame**. A DataFrame is a big table of data, made up of rows and columns. In the example below, the **variable** called `music_top200` lets us refer to and work on the data.\n",
    "\n",
    "Notice that in the bottom-left of the table, it shows the number of rows and columns. This data has 12,417 rows and 22 columns.\n"
   ]
  },
  {
   "cell_type": "markdown",
   "metadata": {
    "section": "data-transition=\"none none\"",
    "slideshow": {
     "slide_type": "slide"
    }
   },
   "source": [
    "# How code is structured\n",
    "\n",
    "![](model-structure-code-1.png)"
   ]
  },
  {
   "cell_type": "markdown",
   "metadata": {
    "slideshow": {
     "slide_type": "notes"
    }
   },
   "source": [
    "Here is the first code we'll use in our analyses.\n",
    "It loads the tools we need from the siuba and plotnine libraries.\n",
    "\n",
    "It's said out loud as, \"from siuba import star\"."
   ]
  },
  {
   "cell_type": "markdown",
   "metadata": {
    "section": "data-transition=\"none none\"",
    "slideshow": {
     "slide_type": "subslide"
    }
   },
   "source": [
    "# How code is structured\n",
    "\n",
    "![](model-structure-code-2.png)"
   ]
  },
  {
   "cell_type": "markdown",
   "metadata": {
    "section": "data-transition=\"none none\"",
    "slideshow": {
     "slide_type": "subslide"
    }
   },
   "source": [
    "# How code is structured\n",
    "\n",
    "![](model-structure-code-3.png)"
   ]
  },
  {
   "cell_type": "markdown",
   "metadata": {
    "section": "data-transition=\"none none\"",
    "slideshow": {
     "slide_type": "subslide"
    }
   },
   "source": [
    "# How code is structured\n",
    "\n",
    "![](model-structure-code-4.png)"
   ]
  },
  {
   "cell_type": "markdown",
   "metadata": {
    "section": "data-transition=\"none none\"",
    "slideshow": {
     "slide_type": "subslide"
    }
   },
   "source": [
    "# How code is structured\n",
    "\n",
    "![](model-structure-code-5.png)"
   ]
  },
  {
   "cell_type": "markdown",
   "metadata": {
    "section": "data-transition=\"none none\"",
    "slideshow": {
     "slide_type": "subslide"
    }
   },
   "source": [
    "# How code is structured\n",
    "\n",
    "![](model-structure-code-6.png)"
   ]
  },
  {
   "cell_type": "markdown",
   "metadata": {
    "slideshow": {
     "slide_type": "slide"
    }
   },
   "source": [
    "# Let's practice!"
   ]
  }
 ],
 "metadata": {
  "kernelspec": {
   "display_name": "venv-siublocks-org",
   "language": "python",
   "name": "venv-siublocks-org"
  },
  "language_info": {
   "codemirror_mode": {
    "name": "ipython",
    "version": 3
   },
   "file_extension": ".py",
   "mimetype": "text/x-python",
   "name": "python",
   "nbconvert_exporter": "python",
   "pygments_lexer": "ipython3",
   "version": "3.6.8"
  },
  "nbconvert": {
   "ExecutePreprocessor": {
    "enabled": true
   },
   "TagRemovePreprocessor": {
    "remove_input_tags": [
     "hide-cell"
    ]
   },
   "TemplateExporter": {
    "exclude_input_prompt": true,
    "exclude_output_prompt": true,
    "template_file": "/Users/machow/Dropbox/Repo/siublocks-org/purview/tutorial/intro-data-science/slides/slides_template.j2"
   },
   "exporter": "slidessimple"
  }
 },
 "nbformat": 4,
 "nbformat_minor": 4
}
