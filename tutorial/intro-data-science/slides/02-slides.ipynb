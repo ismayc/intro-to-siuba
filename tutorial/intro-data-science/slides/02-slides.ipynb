{
 "cells": [
  {
   "cell_type": "code",
   "execution_count": null,
   "metadata": {
    "slideshow": {
     "slide_type": "skip"
    },
    "tags": [
     "hide-cell"
    ]
   },
   "outputs": [],
   "source": [
    "import pandas as pd\n",
    "from siuba import arrange, select, mutate, filter, _\n",
    "from plotnine import ggplot, geom_point, coord_flip, aes, labs, geom_text, facet_wrap, geom_line, scale_y_log10\n",
    "\n",
    "# temporary until I figure out where to put data\n",
    "fname = \"https://siublocks.s3.us-east-2.amazonaws.com/course-data/music200.csv\"\n",
    "music_top200 = pd.read_csv(fname)\n",
    "\n",
    "# tracks\n",
    "fname = \"https://siublocks.s3.us-east-2.amazonaws.com/course-data/track_features.csv\"\n",
    "track_features = pd.read_csv(fname)\n",
    "\n",
    "\n",
    "pd.set_option(\"display.min_rows\", 50)\n"
   ]
  },
  {
   "cell_type": "markdown",
   "metadata": {
    "slideshow": {
     "slide_type": "skip"
    }
   },
   "source": [
    "* filter artist, get characteristics\n",
    "* try different combinations of characteristics--which ones seem most related?\n",
    "* diagnose error (unquoted ggplot)\n",
    "* diagnose error (verb without _)\n",
    "* plot with aesthetics\n",
    "* plot text instead\n",
    "* labs?"
   ]
  },
  {
   "cell_type": "markdown",
   "metadata": {
    "slideshow": {
     "slide_type": "slide"
    }
   },
   "source": [
    "# Visualization with plotnine\n"
   ]
  },
  {
   "cell_type": "markdown",
   "metadata": {
    "slideshow": {
     "slide_type": "notes"
    }
   },
   "source": [
    "In the last chapter, you used the dplyr package to answer some questions about the gapminder dataset.\n",
    "You've been able to filter for particular observations, arrange\n",
    "to find the highest or lowest values, and mutate to add new columns.\n",
    "However, so far you've engaged with the results only as a table printed out from your code.\n",
    "Often a better way to understand and present this kind of data is as a graph.\n",
    "In this chapter, you'll learn the essential skill of data visualization using the ggplot2 package.\n"
   ]
  },
  {
   "cell_type": "markdown",
   "metadata": {},
   "source": [
    "# "
   ]
  },
  {
   "cell_type": "code",
   "execution_count": null,
   "metadata": {
    "tags": [
     "hide-input"
    ]
   },
   "outputs": [],
   "source": [
    "# Reverse: can you find an artist with a different relationship, or is it a general trend?\n",
    "(track_features\n",
    " >> filter(_.artist == \"Billie Eilish\")\n",
    " >> ggplot(aes(\"energy\", \"valence\", size = \"popularity\", color = \"acousticness\", label = \"track_name\"))\n",
    "  + geom_point()\n",
    "  #+ geom_text(nudge_y = .1)\n",
    "  + labs(title = \"Billie Eilish hit track features\")\n",
    ")"
   ]
  },
  {
   "cell_type": "markdown",
   "metadata": {
    "slideshow": {
     "slide_type": "notes"
    }
   },
   "source": [
    "In particular, this chapter will show you how to create scatterplots,\n",
    "like the one you see here, that compare two variables on an x- and y- axis.\n",
    "Visualization and data wrangling are often intertwined, so you'll see how\n",
    "the dplyr and ggplot2 packages work closely together to create informative graphs.\n"
   ]
  },
  {
   "cell_type": "markdown",
   "metadata": {},
   "source": [
    "# Let's practice!"
   ]
  },
  {
   "cell_type": "markdown",
   "metadata": {
    "slideshow": {
     "slide_type": "notes"
    }
   },
   "source": [
    "Scroll down to get started with practice!"
   ]
  },
  {
   "cell_type": "code",
   "execution_count": null,
   "metadata": {},
   "outputs": [],
   "source": [
    "(music_top200\n",
    "  >> filter(_.continent == \"Asia\")\n",
    "  >> ggplot(aes(\"position\", \"streams\"))\n",
    "   + geom_point()\n",
    "   + facet_wrap('~country')\n",
    ")"
   ]
  },
  {
   "cell_type": "code",
   "execution_count": null,
   "metadata": {},
   "outputs": [],
   "source": [
    "# Maybe high-level example at end of practice\n",
    "# won't teach lists, only isin after methods in summarize\n",
    "artists_to_keep = [\"Billie Eilish\", \"ITZY\", \"Roddy Ricch\"]\n",
    "\n",
    "(track_features\n",
    " >> filter(_.artist.isin(artists_to_keep))\n",
    " >> ggplot(aes(\"energy\", \"valence\", color = \"artist\"))\n",
    "  + geom_point()\n",
    "  + facet_wrap('~artist', ncol=1)\n",
    ")"
   ]
  }
 ],
 "metadata": {
  "kernelspec": {
   "display_name": "venv-siublocks-org",
   "language": "python",
   "name": "venv-siublocks-org"
  },
  "language_info": {
   "codemirror_mode": {
    "name": "ipython",
    "version": 3
   },
   "file_extension": ".py",
   "mimetype": "text/x-python",
   "name": "python",
   "nbconvert_exporter": "python",
   "pygments_lexer": "ipython3",
   "version": "3.6.8"
  },
  "nbconvert": {
   "ExecutePreprocessor": {
    "enabled": true
   },
   "TagRemovePreprocessor": {
    "remove_input_tags": [
     "hide-input",
     "hide-cell"
    ]
   },
   "TemplateExporter": {
    "exclude_input_prompt": true,
    "exclude_output_prompt": true,
    "template_file": "/Users/machow/Dropbox/Repo/siublocks-org/purview/tutorial/intro-data-science/slides/slides_template.j2"
   },
   "exporter": "slidessimple"
  }
 },
 "nbformat": 4,
 "nbformat_minor": 4
}
